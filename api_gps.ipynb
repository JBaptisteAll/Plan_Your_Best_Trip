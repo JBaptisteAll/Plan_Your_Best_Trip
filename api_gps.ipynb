{
 "cells": [
  {
   "cell_type": "code",
   "execution_count": 2,
   "metadata": {},
   "outputs": [],
   "source": [
    "import pandas as pd\n",
    "import requests\n",
    "pd.set_option(\"display.max_columns\", None)"
   ]
  },
  {
   "cell_type": "code",
   "execution_count": 3,
   "metadata": {},
   "outputs": [
    {
     "data": {
      "text/plain": [
       "<Response [200]>"
      ]
     },
     "execution_count": 3,
     "metadata": {},
     "output_type": "execute_result"
    }
   ],
   "source": [
    "url = \"https://nominatim.openstreetmap.org/search\"\n",
    "\n",
    "params = {\"city\" : \"Paris\",\n",
    "        \"country\" : \"France\",\n",
    "        \"format\" : \"json\",\n",
    "        \"limit\" : 1\n",
    "        }\n",
    "\n",
    "headers = {\"User-Agent\" : \"NotNecessary\"}\n",
    "\n",
    "r = requests.get(url, params = params, headers = headers)\n",
    "r"
   ]
  },
  {
   "cell_type": "code",
   "execution_count": 6,
   "metadata": {},
   "outputs": [
    {
     "name": "stdout",
     "output_type": "stream",
     "text": [
      "                            City            Latitude           Longitude\n",
      "0              Mont Saint Michel          48.6359541  -1.511459954959514\n",
      "1                        St Malo           48.649518          -2.0260409\n",
      "2                         Bayeux          49.2764624          -0.7024738\n",
      "3                       Le Havre          49.4938975           0.1079732\n",
      "4                          Rouen          49.4404591           1.0939658\n",
      "5                          Paris          48.8534951           2.3483915\n",
      "6                         Amiens          49.8941708           2.2956951\n",
      "7                          Lille          50.6365654           3.0635282\n",
      "8                     Strasbourg           48.584614           7.7507127\n",
      "9   Chateau du Haut Koenigsbourg          48.2495226           7.3454923\n",
      "10                        Colmar          48.0777517           7.3579641\n",
      "11                     Eguisheim          48.0447968           7.3079618\n",
      "12                      Besancon          47.2380222           6.0243622\n",
      "13                         Dijon          47.3215806           5.0414701\n",
      "14                        Annecy          45.8992348           6.1288847\n",
      "15                      Grenoble          45.1875602           5.7357819\n",
      "16                          Lyon          45.7578137           4.8320114\n",
      "17              Gorges du Verdon          43.7496562           6.3285616\n",
      "18            Bormes les Mimosas          43.1506968           6.3419285\n",
      "19                        Cassis          43.2140359           5.5396318\n",
      "20                     Marseille          43.2961743           5.3699525\n",
      "21               Aix en Provence          43.5298424           5.4474738\n",
      "22                       Avignon          43.9492493           4.8059012\n",
      "23                          Uzes          44.0121279           4.4196718\n",
      "24                         Nimes          43.8374249           4.3600687\n",
      "25                 Aigues Mortes          43.5661521             4.19154\n",
      "26      Saintes Maries de la mer          43.4515922           4.4277202\n",
      "27                     Collioure            42.52505           3.0831554\n",
      "28                   Carcassonne          43.2130358           2.3491069\n",
      "29                        Ariege          42.8458016           1.6067586\n",
      "30                      Toulouse          43.6044622           1.4442469\n",
      "31                     Montauban          44.0175835           1.3549991\n",
      "32                      Biarritz  43.471143749999996  -1.552726590666314\n",
      "33                       Bayonne          43.4945144          -1.4736657\n",
      "34                   La Rochelle           46.159732          -1.1515951\n"
     ]
    }
   ],
   "source": [
    "# List of cities\n",
    "cities = [\n",
    "    \"Mont Saint Michel\", \"St Malo\", \"Bayeux\", \"Le Havre\", \"Rouen\", \"Paris\", \"Amiens\", \"Lille\", \"Strasbourg\",\n",
    "    \"Chateau du Haut Koenigsbourg\", \"Colmar\", \"Eguisheim\", \"Besancon\", \"Dijon\", \"Annecy\", \"Grenoble\", \"Lyon\",\n",
    "    \"Gorges du Verdon\", \"Bormes les Mimosas\", \"Cassis\", \"Marseille\", \"Aix en Provence\", \"Avignon\", \"Uzes\", \"Nimes\",\n",
    "    \"Aigues Mortes\", \"Saintes Maries de la mer\", \"Collioure\", \"Carcassonne\", \"Ariege\", \"Toulouse\", \"Montauban\",\n",
    "    \"Biarritz\", \"Bayonne\", \"La Rochelle\"\n",
    "]\n",
    "\n",
    "# URL for API\n",
    "url = \"https://nominatim.openstreetmap.org/search\"\n",
    "\n",
    "# List to store the result\n",
    "results = []\n",
    "\n",
    "# loop to get each city\n",
    "for city in cities:\n",
    "    params = {\n",
    "        \"city\": city,\n",
    "        \"country\": \"France\",\n",
    "        \"format\": \"json\",\n",
    "        \"limit\": 1\n",
    "    }\n",
    "\n",
    "    headers = {\n",
    "        \"User-Agent\": \"NotNecessary\"\n",
    "    }\n",
    "\n",
    "    # Send the request\n",
    "    r = requests.get(url, params=params, headers=headers)\n",
    "\n",
    "    \n",
    "    if r.status_code == 200:\n",
    "        data = r.json()\n",
    "        if data:\n",
    "            # Add each result to the list\n",
    "            results.append({\"City\": city, \"Latitude\": data[0][\"lat\"], \"Longitude\": data[0][\"lon\"]})\n",
    "        else:\n",
    "            # Add error message if failed\n",
    "            results.append({\"City\": city, \"Latitude\": None, \"Longitude\": None, \"Error\": \"No result found\"})\n",
    "    else:\n",
    "        results.append({\"City\": city, \"Latitude\": None, \"Longitude\": None, \"Error\": \"Request failed\"})\n",
    "\n",
    "# Convert into a DataFrame\n",
    "df_results = pd.DataFrame(results)\n",
    "\n",
    "\n",
    "print(df_results)\n"
   ]
  }
 ],
 "metadata": {
  "kernelspec": {
   "display_name": "base",
   "language": "python",
   "name": "python3"
  },
  "language_info": {
   "codemirror_mode": {
    "name": "ipython",
    "version": 3
   },
   "file_extension": ".py",
   "mimetype": "text/x-python",
   "name": "python",
   "nbconvert_exporter": "python",
   "pygments_lexer": "ipython3",
   "version": "3.11.7"
  }
 },
 "nbformat": 4,
 "nbformat_minor": 2
}
